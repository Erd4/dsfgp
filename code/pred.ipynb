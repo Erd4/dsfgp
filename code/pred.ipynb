{
 "cells": [
  {
   "cell_type": "code",
   "execution_count": null,
   "metadata": {},
   "outputs": [],
   "source": [
    "import pandas as pd\n",
    "import numpy as np\n",
    "import matplotlib.pyplot as plt\n",
    "import seaborn as sns\n",
    "import helpers as dsfh\n",
    "import missingno as msno\n",
    "from pyaxis import pyaxis\n",
    "from sklearn.linear_model import LinearRegression\n",
    "from sklearn.model_selection import train_test_split\n",
    "from sklearn.preprocessing import StandardScaler\n",
    "from sklearn.decomposition import PCA\n",
    "from sklearn.metrics import confusion_matrix, classification_report, roc_auc_score, roc_curve\n",
    "from sklearn.impute import KNNImputer\n",
    "from sklearn.experimental import enable_iterative_imputer\n",
    "from sklearn.impute import IterativeImputer\n",
    "from sklearn import linear_model\n",
    "import statsmodels.api as sm\n",
    "#import statsmodels.api as sm #statsmodels is used for creating linear regression models\n",
    "from sklearn.model_selection import train_test_split #creating testing and training data\n",
    "from sklearn.metrics import roc_auc_score #evaluate model performance\n",
    "import predhelp as ph\n",
    "from scipy import stats\n",
    "from sklearn.preprocessing import PolynomialFeatures"
   ]
  }
 ],
 "metadata": {
  "kernelspec": {
   "display_name": "Python 3.9.12 ('DSF')",
   "language": "python",
   "name": "python3"
  },
  "language_info": {
   "name": "python",
   "version": "3.9.12"
  },
  "orig_nbformat": 4,
  "vscode": {
   "interpreter": {
    "hash": "66ca9548ad9b06bad4ff0a907a19eaad3b300e8df74d696fe3521463358d11e2"
   }
  }
 },
 "nbformat": 4,
 "nbformat_minor": 2
}
